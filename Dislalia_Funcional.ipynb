{
 "cells": [
  {
   "cell_type": "code",
   "execution_count": null,
   "metadata": {},
   "outputs": [],
   "source": [
    "# !pip install transformers[torch] accelerate datasets torch scikit-learn evaluate"
   ]
  },
  {
   "cell_type": "code",
   "execution_count": null,
   "metadata": {},
   "outputs": [],
   "source": [
    "import json\n",
    "import difflib\n",
    "import torch\n",
    "from transformers import BertTokenizer, BertForSequenceClassification, Trainer, TrainingArguments\n",
    "from datasets import Dataset, DatasetDict\n",
    "from sklearn.model_selection import train_test_split\n",
    "import evaluate"
   ]
  },
  {
   "cell_type": "code",
   "execution_count": 3,
   "metadata": {},
   "outputs": [],
   "source": [
    "# Carregar o arquivo JSON\n",
    "with open('dislalia_dataset_sem_duplicatas.json') as f:\n",
    "    examples = json.load(f) "
   ]
  },
  {
   "cell_type": "code",
   "execution_count": null,
   "metadata": {},
   "outputs": [],
   "source": [
    "def identificar_erro(correta, erro):\n",
    "    s = difflib.SequenceMatcher(None, correta, erro)\n",
    "    differ = s.get_opcodes()\n",
    "    \n",
    "    substituicao = omissao = acrescimo = False\n",
    "    \n",
    "    for tag, i1, i2, j1, j2 in differ:\n",
    "        if tag == 'replace':\n",
    "            substituicao = True\n",
    "        elif tag == 'delete':\n",
    "            omissao = True\n",
    "        elif tag == 'insert':\n",
    "            acrescimo = True\n",
    "            \n",
    "    if substituicao:\n",
    "        return \"Substituição\"\n",
    "    elif omissao:\n",
    "        return \"Omissão\"\n",
    "    elif acrescimo:\n",
    "        return \"Acréscimo\"\n",
    "\n",
    "# Aplicar a função aos exemplos\n",
    "for example in examples:\n",
    "    tipo_previsto = identificar_erro(example['correta'], example['erro'])\n",
    "    print(f\"Correta: {example['correta']} | Erro: {example['erro']} | Tipo Previsto: {tipo_previsto}\")"
   ]
  },
  {
   "cell_type": "code",
   "execution_count": 5,
   "metadata": {},
   "outputs": [],
   "source": [
    "# Dicionário para mapear tipos de erro para rótulos numéricos\n",
    "label_mapping = {\"Substituição\": 0, \"Omissão\": 1, \"Acréscimo\": 2}\n",
    "\n",
    "# Criar listas de palavras corretas, erros e rótulos\n",
    "corretas = [ex['correta'] for ex in examples]\n",
    "erros = [ex['erro'] for ex in examples]\n",
    "labels = [label_mapping[ex['tipo_erro']] for ex in examples]\n",
    "\n",
    "# Dividir os dados em treino e validação\n",
    "train_texts, val_texts, train_labels, val_labels = train_test_split(erros, labels, test_size=0.2)\n",
    "\n",
    "# Inicializar o tokenizer\n",
    "tokenizer = BertTokenizer.from_pretrained('neuralmind/bert-base-portuguese-cased')\n",
    "\n",
    "# Tokenizar os dados\n",
    "train_encodings = tokenizer(train_texts, truncation=True, padding=True, max_length=128)\n",
    "val_encodings = tokenizer(val_texts, truncation=True, padding=True, max_length=128)\n",
    "\n",
    "# Criar datasets\n",
    "train_dataset = Dataset.from_dict({\n",
    "    'input_ids': train_encodings['input_ids'],\n",
    "    'attention_mask': train_encodings['attention_mask'],\n",
    "    'labels': train_labels\n",
    "})\n",
    "\n",
    "val_dataset = Dataset.from_dict({\n",
    "    'input_ids': val_encodings['input_ids'],\n",
    "    'attention_mask': val_encodings['attention_mask'],\n",
    "    'labels': val_labels\n",
    "})\n",
    "\n",
    "# Juntar os datasets em um DatasetDict\n",
    "datasets = DatasetDict({\"train\": train_dataset, \"validation\": val_dataset})"
   ]
  },
  {
   "cell_type": "markdown",
   "metadata": {},
   "source": [
    "### Configuração do Modelo BERT"
   ]
  },
  {
   "cell_type": "code",
   "execution_count": null,
   "metadata": {},
   "outputs": [],
   "source": [
    "model = BertForSequenceClassification.from_pretrained('neuralmind/bert-base-portuguese-cased', num_labels=3)\n",
    "\n",
    "training_args = TrainingArguments(\n",
    "    output_dir='./results',\n",
    "    evaluation_strategy=\"epoch\",\n",
    "    learning_rate=2e-5,\n",
    "    per_device_train_batch_size=16,\n",
    "    per_device_eval_batch_size=16,\n",
    "    num_train_epochs=3,\n",
    "    weight_decay=0.01,\n",
    "    logging_dir='./logs',\n",
    ")"
   ]
  },
  {
   "cell_type": "markdown",
   "metadata": {},
   "source": [
    "### Carregar a Metrica"
   ]
  },
  {
   "cell_type": "code",
   "execution_count": null,
   "metadata": {},
   "outputs": [],
   "source": [
    "# Carregar a métrica de avaliação corretamente\n",
    "metric = evaluate.load(\"accuracy\")\n",
    "\n",
    "def compute_metrics(eval_pred):\n",
    "    logits, labels = eval_pred\n",
    "    predictions = torch.argmax(logits, dim=-1)\n",
    "    return metric.compute(predictions=predictions, references=labels)"
   ]
  },
  {
   "cell_type": "markdown",
   "metadata": {},
   "source": [
    "### Treinamento do Modelo"
   ]
  },
  {
   "cell_type": "code",
   "execution_count": null,
   "metadata": {},
   "outputs": [],
   "source": [
    "trainer = Trainer(\n",
    "    model=model,\n",
    "    args=training_args,\n",
    "    train_dataset=datasets['train'],\n",
    "    eval_dataset=datasets['validation'],\n",
    "    compute_metrics=compute_metrics\n",
    ")\n",
    "\n",
    "trainer.train()"
   ]
  },
  {
   "cell_type": "markdown",
   "metadata": {},
   "source": [
    "### Avaliando o Modelo"
   ]
  },
  {
   "cell_type": "code",
   "execution_count": null,
   "metadata": {},
   "outputs": [],
   "source": [
    "eval_results = trainer.evaluate()\n",
    "print(f\"Resultados da Avaliação: {eval_results}\")"
   ]
  },
  {
   "cell_type": "markdown",
   "metadata": {},
   "source": [
    "### Testando com Exemplos"
   ]
  },
  {
   "cell_type": "code",
   "execution_count": null,
   "metadata": {},
   "outputs": [],
   "source": [
    "def predict_error_type(model, tokenizer, erro):\n",
    "    inputs = tokenizer(erro, return_tensors=\"pt\", truncation=True, padding=True, max_length=128)\n",
    "    outputs = model(**inputs)\n",
    "    prediction = torch.argmax(outputs.logits, dim=-1).item()\n",
    "    \n",
    "    tipo_erro = list(label_mapping.keys())[list(label_mapping.values()).index(prediction)]\n",
    "    return tipo_erro\n",
    "\n",
    "# Testar com um novo exemplo\n",
    "erro_novo = \"balata\"  # Palavra errada para \"barata\"\n",
    "tipo_predito = predict_error_type(model, tokenizer, erro_novo)\n",
    "print(f\"Erro: {erro_novo} | Tipo Predito: {tipo_predito}\")"
   ]
  }
 ],
 "metadata": {
  "kernelspec": {
   "display_name": ".venv",
   "language": "python",
   "name": "python3"
  },
  "language_info": {
   "codemirror_mode": {
    "name": "ipython",
    "version": 3
   },
   "file_extension": ".py",
   "mimetype": "text/x-python",
   "name": "python",
   "nbconvert_exporter": "python",
   "pygments_lexer": "ipython3",
   "version": "3.12.3"
  }
 },
 "nbformat": 4,
 "nbformat_minor": 2
}
